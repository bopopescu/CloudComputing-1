{
 "metadata": {
  "name": "",
  "signature": "sha256:ac0e6c67f33edd4a9bebb936f0bfcf7dcba7543ff61e64b9a711ebd94303aa44"
 },
 "nbformat": 3,
 "nbformat_minor": 0,
 "worksheets": []
}